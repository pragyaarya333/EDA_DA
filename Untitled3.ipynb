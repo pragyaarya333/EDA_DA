{
  "nbformat": 4,
  "nbformat_minor": 0,
  "metadata": {
    "colab": {
      "provenance": [],
      "authorship_tag": "ABX9TyNyirp8vL2SfmmLEWPAOUdX",
      "include_colab_link": true
    },
    "kernelspec": {
      "name": "python3",
      "display_name": "Python 3"
    },
    "language_info": {
      "name": "python"
    }
  },
  "cells": [
    {
      "cell_type": "markdown",
      "metadata": {
        "id": "view-in-github",
        "colab_type": "text"
      },
      "source": [
        "<a href=\"https://colab.research.google.com/github/pragyaarya333/EDA_DA/blob/main/Untitled3.ipynb\" target=\"_parent\"><img src=\"https://colab.research.google.com/assets/colab-badge.svg\" alt=\"Open In Colab\"/></a>"
      ]
    },
    {
      "cell_type": "code",
      "execution_count": 1,
      "metadata": {
        "id": "b-lO8W-05qrS",
        "outputId": "bb4f84e9-d057-469b-cd97-54eee9ee3c7d",
        "colab": {
          "base_uri": "https://localhost:8080/"
        }
      },
      "outputs": [
        {
          "output_type": "stream",
          "name": "stdout",
          "text": [
            "Enter your name: pragya\n",
            "Hello, pragya! Welcome to Python programming.\n"
          ]
        }
      ],
      "source": [
        "# Taking user input\n",
        "name = input(\"Enter your name: \")\n",
        "\n",
        "# Printing a greeting message\n",
        "print(f\"Hello, {name}! Welcome to Python programming.\")"
      ]
    }
  ]
}