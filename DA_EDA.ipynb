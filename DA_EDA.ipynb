{
  "nbformat": 4,
  "nbformat_minor": 0,
  "metadata": {
    "colab": {
      "provenance": [],
      "authorship_tag": "ABX9TyMqHD17XxFFs/UlAz60nlyR",
      "include_colab_link": true
    },
    "kernelspec": {
      "name": "python3",
      "display_name": "Python 3"
    },
    "language_info": {
      "name": "python"
    }
  },
  "cells": [
    {
      "cell_type": "markdown",
      "metadata": {
        "id": "view-in-github",
        "colab_type": "text"
      },
      "source": [
        "<a href=\"https://colab.research.google.com/github/pragyaarya333/EDA_DA/blob/main/DA_EDA.ipynb\" target=\"_parent\"><img src=\"https://colab.research.google.com/assets/colab-badge.svg\" alt=\"Open In Colab\"/></a>"
      ]
    },
    {
      "cell_type": "code",
      "source": [
        "import pandas as pd\n",
        "import numpy as np\n",
        "\n",
        "# Load the dataset\n",
        "url = \"https://raw.githubusercontent.com/salemprakash/EDA/main/Data/Benefits.csv\"\n",
        "df = pd.read_csv(url)\n",
        "print(\"Dataset Loaded Successfully\")\n",
        "print(df.head())"
      ],
      "metadata": {
        "colab": {
          "base_uri": "https://localhost:8080/"
        },
        "id": "KoioxZ677kUV",
        "outputId": "cb4454bb-9e1b-42a8-a74f-0832f7c1ae6c"
      },
      "execution_count": 2,
      "outputs": [
        {
          "output_type": "stream",
          "name": "stdout",
          "text": [
            "Dataset Loaded Successfully\n",
            "   rownames  stateur  statemb  state  age  tenure     joblost nwhite school12  \\\n",
            "0         1      4.5      167     42   49      21       other     no       no   \n",
            "1         2     10.5      251     55   26       2  slack_work     no       no   \n",
            "2         3      7.2      260     21   40      19       other     no      yes   \n",
            "3         4      5.8      245     56   51      17  slack_work    yes       no   \n",
            "4         5      6.5      125     58   33       1  slack_work     no      yes   \n",
            "\n",
            "      sex bluecol smsa married dkids dykids  yrdispl        rr head   ui  \n",
            "0    male     yes  yes      no    no     no        7  0.290631  yes  yes  \n",
            "1    male     yes  yes      no   yes    yes       10  0.520202  yes   no  \n",
            "2  female     yes  yes     yes    no     no       10  0.432490  yes  yes  \n",
            "3  female     yes  yes     yes    no     no       10  0.500000   no  yes  \n",
            "4    male     yes  yes     yes   yes    yes        4  0.390625  yes   no  \n"
          ]
        }
      ]
    },
    {
      "cell_type": "code",
      "source": [
        "# 1. Create DataFrame1 'Fname'\n",
        "Fname = pd.DataFrame({\n",
        "    \"ProductID\": [4, 2001, 2002, 2003, 2004],  # First ID is last 4 digits of roll no (004)\n",
        "    \"NameofProd\": [\"Laptop\", \"Phone\", \"Tablet\", \"Monitor\", \"Keyboard\"],\n",
        "    \"Price\": [800, 500, 300, 250, 100]\n",
        "})\n",
        "print(\"\\nDataFrame1 - Fname:\")\n",
        "print(Fname)"
      ],
      "metadata": {
        "colab": {
          "base_uri": "https://localhost:8080/"
        },
        "id": "fqVNFb8L8CTO",
        "outputId": "12d2c915-986c-4106-fbde-32620e8e315f"
      },
      "execution_count": 4,
      "outputs": [
        {
          "output_type": "stream",
          "name": "stdout",
          "text": [
            "\n",
            "DataFrame1 - Fname:\n",
            "   ProductID NameofProd  Price\n",
            "0          4     Laptop    800\n",
            "1       2001      Phone    500\n",
            "2       2002     Tablet    300\n",
            "3       2003    Monitor    250\n",
            "4       2004   Keyboard    100\n"
          ]
        }
      ]
    },
    {
      "cell_type": "code",
      "source": [
        "# 2. Create DataFrame2 'Sample'\n",
        "Sample = pd.DataFrame({\n",
        "    \"ProductID\": [3001, 3002],\n",
        "    \"NameofProd\": [\"Mouse\", \"Charger\"],\n",
        "    \"Price\": [20, 15]\n",
        "})\n",
        "print(\"\\nDataFrame2 - Sample:\")\n",
        "print(Sample)"
      ],
      "metadata": {
        "colab": {
          "base_uri": "https://localhost:8080/"
        },
        "id": "0hW6b8Sn8KtV",
        "outputId": "dd9daf21-dafe-4542-896b-74f7950d6933"
      },
      "execution_count": 5,
      "outputs": [
        {
          "output_type": "stream",
          "name": "stdout",
          "text": [
            "\n",
            "DataFrame2 - Sample:\n",
            "   ProductID NameofProd  Price\n",
            "0       3001      Mouse     20\n",
            "1       3002    Charger     15\n"
          ]
        }
      ]
    }
  ]
}