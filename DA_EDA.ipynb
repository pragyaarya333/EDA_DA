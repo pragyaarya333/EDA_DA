{
  "nbformat": 4,
  "nbformat_minor": 0,
  "metadata": {
    "colab": {
      "provenance": [],
      "authorship_tag": "ABX9TyN8vfH5Y+258R9DDCpBTKs6",
      "include_colab_link": true
    },
    "kernelspec": {
      "name": "python3",
      "display_name": "Python 3"
    },
    "language_info": {
      "name": "python"
    }
  },
  "cells": [
    {
      "cell_type": "markdown",
      "metadata": {
        "id": "view-in-github",
        "colab_type": "text"
      },
      "source": [
        "<a href=\"https://colab.research.google.com/github/pragyaarya333/EDA_DA/blob/main/DA_EDA.ipynb\" target=\"_parent\"><img src=\"https://colab.research.google.com/assets/colab-badge.svg\" alt=\"Open In Colab\"/></a>"
      ]
    },
    {
      "cell_type": "code",
      "source": [
        "import pandas as pd\n",
        "import numpy as np\n",
        "\n",
        "# Load the dataset\n",
        "url = \"https://raw.githubusercontent.com/salemprakash/EDA/main/Data/Benefits.csv\"\n",
        "df = pd.read_csv(url)\n",
        "print(\"Dataset Loaded Successfully\")\n",
        "print(df.head())"
      ],
      "metadata": {
        "id": "KoioxZ677kUV",
        "outputId": "cb4454bb-9e1b-42a8-a74f-0832f7c1ae6c",
        "colab": {
          "base_uri": "https://localhost:8080/"
        }
      },
      "execution_count": 2,
      "outputs": [
        {
          "output_type": "stream",
          "name": "stdout",
          "text": [
            "Dataset Loaded Successfully\n",
            "   rownames  stateur  statemb  state  age  tenure     joblost nwhite school12  \\\n",
            "0         1      4.5      167     42   49      21       other     no       no   \n",
            "1         2     10.5      251     55   26       2  slack_work     no       no   \n",
            "2         3      7.2      260     21   40      19       other     no      yes   \n",
            "3         4      5.8      245     56   51      17  slack_work    yes       no   \n",
            "4         5      6.5      125     58   33       1  slack_work     no      yes   \n",
            "\n",
            "      sex bluecol smsa married dkids dykids  yrdispl        rr head   ui  \n",
            "0    male     yes  yes      no    no     no        7  0.290631  yes  yes  \n",
            "1    male     yes  yes      no   yes    yes       10  0.520202  yes   no  \n",
            "2  female     yes  yes     yes    no     no       10  0.432490  yes  yes  \n",
            "3  female     yes  yes     yes    no     no       10  0.500000   no  yes  \n",
            "4    male     yes  yes     yes   yes    yes        4  0.390625  yes   no  \n"
          ]
        }
      ]
    }
  ]
}