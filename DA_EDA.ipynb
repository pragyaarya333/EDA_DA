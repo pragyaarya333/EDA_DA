{
  "nbformat": 4,
  "nbformat_minor": 0,
  "metadata": {
    "colab": {
      "provenance": [],
      "authorship_tag": "ABX9TyN8sW9o90puIPpDuZocwlan",
      "include_colab_link": true
    },
    "kernelspec": {
      "name": "python3",
      "display_name": "Python 3"
    },
    "language_info": {
      "name": "python"
    }
  },
  "cells": [
    {
      "cell_type": "markdown",
      "metadata": {
        "id": "view-in-github",
        "colab_type": "text"
      },
      "source": [
        "<a href=\"https://colab.research.google.com/github/pragyaarya333/EDA_DA/blob/main/DA_EDA.ipynb\" target=\"_parent\"><img src=\"https://colab.research.google.com/assets/colab-badge.svg\" alt=\"Open In Colab\"/></a>"
      ]
    },
    {
      "cell_type": "code",
      "source": [
        "import pandas as pd\n",
        "import numpy as np\n",
        "\n",
        "# Load the dataset\n",
        "url = \"https://raw.githubusercontent.com/salemprakash/EDA/main/Data/Benefits.csv\"\n",
        "df = pd.read_csv(url)\n",
        "print(\"Dataset Loaded Successfully\")\n",
        "print(df.head())"
      ],
      "metadata": {
        "colab": {
          "base_uri": "https://localhost:8080/"
        },
        "id": "KoioxZ677kUV",
        "outputId": "cb4454bb-9e1b-42a8-a74f-0832f7c1ae6c"
      },
      "execution_count": 2,
      "outputs": [
        {
          "output_type": "stream",
          "name": "stdout",
          "text": [
            "Dataset Loaded Successfully\n",
            "   rownames  stateur  statemb  state  age  tenure     joblost nwhite school12  \\\n",
            "0         1      4.5      167     42   49      21       other     no       no   \n",
            "1         2     10.5      251     55   26       2  slack_work     no       no   \n",
            "2         3      7.2      260     21   40      19       other     no      yes   \n",
            "3         4      5.8      245     56   51      17  slack_work    yes       no   \n",
            "4         5      6.5      125     58   33       1  slack_work     no      yes   \n",
            "\n",
            "      sex bluecol smsa married dkids dykids  yrdispl        rr head   ui  \n",
            "0    male     yes  yes      no    no     no        7  0.290631  yes  yes  \n",
            "1    male     yes  yes      no   yes    yes       10  0.520202  yes   no  \n",
            "2  female     yes  yes     yes    no     no       10  0.432490  yes  yes  \n",
            "3  female     yes  yes     yes    no     no       10  0.500000   no  yes  \n",
            "4    male     yes  yes     yes   yes    yes        4  0.390625  yes   no  \n"
          ]
        }
      ]
    },
    {
      "cell_type": "code",
      "source": [
        "# 1. Create DataFrame1 'Fname'\n",
        "Fname = pd.DataFrame({\n",
        "    \"ProductID\": [4, 2001, 2002, 2003, 2004],  # First ID is last 4 digits of roll no (004)\n",
        "    \"NameofProd\": [\"Laptop\", \"Phone\", \"Tablet\", \"Monitor\", \"Keyboard\"],\n",
        "    \"Price\": [800, 500, 300, 250, 100]\n",
        "})\n",
        "print(\"\\nDataFrame1 - Fname:\")\n",
        "print(Fname)"
      ],
      "metadata": {
        "colab": {
          "base_uri": "https://localhost:8080/"
        },
        "id": "fqVNFb8L8CTO",
        "outputId": "12d2c915-986c-4106-fbde-32620e8e315f"
      },
      "execution_count": 4,
      "outputs": [
        {
          "output_type": "stream",
          "name": "stdout",
          "text": [
            "\n",
            "DataFrame1 - Fname:\n",
            "   ProductID NameofProd  Price\n",
            "0          4     Laptop    800\n",
            "1       2001      Phone    500\n",
            "2       2002     Tablet    300\n",
            "3       2003    Monitor    250\n",
            "4       2004   Keyboard    100\n"
          ]
        }
      ]
    },
    {
      "cell_type": "code",
      "source": [
        "# 2. Create DataFrame2 'Sample'\n",
        "Sample = pd.DataFrame({\n",
        "    \"ProductID\": [3001, 3002],\n",
        "    \"NameofProd\": [\"Mouse\", \"Charger\"],\n",
        "    \"Price\": [20, 15]\n",
        "})\n",
        "print(\"\\nDataFrame2 - Sample:\")\n",
        "print(Sample)"
      ],
      "metadata": {
        "colab": {
          "base_uri": "https://localhost:8080/"
        },
        "id": "0hW6b8Sn8KtV",
        "outputId": "dd9daf21-dafe-4542-896b-74f7950d6933"
      },
      "execution_count": 5,
      "outputs": [
        {
          "output_type": "stream",
          "name": "stdout",
          "text": [
            "\n",
            "DataFrame2 - Sample:\n",
            "   ProductID NameofProd  Price\n",
            "0       3001      Mouse     20\n",
            "1       3002    Charger     15\n"
          ]
        }
      ]
    },
    {
      "cell_type": "code",
      "source": [
        "# 3. Create DataFrame3 'Lname'\n",
        "Lname = pd.DataFrame({\n",
        "    \"ProductID\": [4, 4001, 4002, 4003, 4004],\n",
        "    \"Company_Location\": [\"USA\", \"UK\", \"India\", \"Germany\", \"Canada\"]\n",
        "})\n",
        "print(\"\\nDataFrame3 - Lname:\")\n",
        "print(Lname)"
      ],
      "metadata": {
        "colab": {
          "base_uri": "https://localhost:8080/"
        },
        "id": "WPOZxD0A8ThH",
        "outputId": "605ba017-aecf-4e9d-a098-b74910c90897"
      },
      "execution_count": 6,
      "outputs": [
        {
          "output_type": "stream",
          "name": "stdout",
          "text": [
            "\n",
            "DataFrame3 - Lname:\n",
            "   ProductID Company_Location\n",
            "0          4              USA\n",
            "1       4001               UK\n",
            "2       4002            India\n",
            "3       4003          Germany\n",
            "4       4004           Canada\n"
          ]
        }
      ]
    },
    {
      "cell_type": "code",
      "source": [
        "# 4. Append DataFrame1 and DataFrame2\n",
        "Appended_DF = pd.concat([Fname, Sample], ignore_index=True)\n",
        "print(\"\\nAppended DataFrame:\")\n",
        "print(Appended_DF)"
      ],
      "metadata": {
        "colab": {
          "base_uri": "https://localhost:8080/"
        },
        "id": "38fTHFqg8cWO",
        "outputId": "0a79212a-095d-46af-a48f-c706c96ff3de"
      },
      "execution_count": 7,
      "outputs": [
        {
          "output_type": "stream",
          "name": "stdout",
          "text": [
            "\n",
            "Appended DataFrame:\n",
            "   ProductID NameofProd  Price\n",
            "0          4     Laptop    800\n",
            "1       2001      Phone    500\n",
            "2       2002     Tablet    300\n",
            "3       2003    Monitor    250\n",
            "4       2004   Keyboard    100\n",
            "5       3001      Mouse     20\n",
            "6       3002    Charger     15\n"
          ]
        }
      ]
    },
    {
      "cell_type": "code",
      "source": [
        "# 5. Combine DataFrame1 and DataFrame3 using outer join (similar to cbind in R)\n",
        "Combined_DF = pd.merge(Fname, Lname, on=\"ProductID\", how=\"outer\")\n",
        "print(\"\\nCombined DataFrame:\")\n",
        "print(Combined_DF)"
      ],
      "metadata": {
        "colab": {
          "base_uri": "https://localhost:8080/"
        },
        "id": "rOO_43Dr8kj1",
        "outputId": "0fa19bd5-0351-4589-8d85-99f53ea8da68"
      },
      "execution_count": 8,
      "outputs": [
        {
          "output_type": "stream",
          "name": "stdout",
          "text": [
            "\n",
            "Combined DataFrame:\n",
            "   ProductID NameofProd  Price Company_Location\n",
            "0          4     Laptop  800.0              USA\n",
            "1       2001      Phone  500.0              NaN\n",
            "2       2002     Tablet  300.0              NaN\n",
            "3       2003    Monitor  250.0              NaN\n",
            "4       2004   Keyboard  100.0              NaN\n",
            "5       4001        NaN    NaN               UK\n",
            "6       4002        NaN    NaN            India\n",
            "7       4003        NaN    NaN          Germany\n",
            "8       4004        NaN    NaN           Canada\n"
          ]
        }
      ]
    },
    {
      "cell_type": "code",
      "source": [
        "# 6. Merge DataFrame1 and DataFrame3 by ProductID (Inner Join)\n",
        "Merged_DF = pd.merge(Fname, Lname, on=\"ProductID\", how=\"inner\")\n",
        "print(\"\\nMerged DataFrame:\")\n",
        "print(Merged_DF)"
      ],
      "metadata": {
        "colab": {
          "base_uri": "https://localhost:8080/"
        },
        "id": "yUB_sw4N8uuR",
        "outputId": "1a681b6e-f899-4e38-ed37-b9f3cc8b2f9b"
      },
      "execution_count": 9,
      "outputs": [
        {
          "output_type": "stream",
          "name": "stdout",
          "text": [
            "\n",
            "Merged DataFrame:\n",
            "   ProductID NameofProd  Price Company_Location\n",
            "0          4     Laptop    800              USA\n"
          ]
        }
      ]
    },
    {
      "cell_type": "code",
      "source": [
        "# 7. Perform Left and Right Join\n",
        "Left_Join_DF = pd.merge(Fname, Lname, on=\"ProductID\", how=\"left\")\n",
        "Right_Join_DF = pd.merge(Fname, Lname, on=\"ProductID\", how=\"right\")\n",
        "print(\"\\nLeft Join DataFrame:\")\n",
        "print(Left_Join_DF)\n",
        "print(\"\\nRight Join DataFrame:\")\n",
        "print(Right_Join_DF)"
      ],
      "metadata": {
        "colab": {
          "base_uri": "https://localhost:8080/"
        },
        "id": "rrAwbcqx-4sO",
        "outputId": "d5eb8e90-ec72-467b-9a69-573284fd6062"
      },
      "execution_count": 10,
      "outputs": [
        {
          "output_type": "stream",
          "name": "stdout",
          "text": [
            "\n",
            "Left Join DataFrame:\n",
            "   ProductID NameofProd  Price Company_Location\n",
            "0          4     Laptop    800              USA\n",
            "1       2001      Phone    500              NaN\n",
            "2       2002     Tablet    300              NaN\n",
            "3       2003    Monitor    250              NaN\n",
            "4       2004   Keyboard    100              NaN\n",
            "\n",
            "Right Join DataFrame:\n",
            "   ProductID NameofProd  Price Company_Location\n",
            "0          4     Laptop  800.0              USA\n",
            "1       4001        NaN    NaN               UK\n",
            "2       4002        NaN    NaN            India\n",
            "3       4003        NaN    NaN          Germany\n",
            "4       4004        NaN    NaN           Canada\n"
          ]
        }
      ]
    },
    {
      "cell_type": "code",
      "source": [
        "# 8. Normalize Data Function\n",
        "def normalize_Rollno(data, new_min, new_max):\n",
        "    old_min, old_max = min(data), max(data)\n",
        "    return [( (x - old_min) / (old_max - old_min) ) * (new_max - new_min) + new_min for x in data]\n",
        "\n",
        "# Read 10 numbers from user\n",
        "user_data = [4] + [int(input(f\"Enter number {i+1}: \")) for i in range(9)]\n",
        "print(\"\\nOriginal Data:\", user_data)\n",
        "\n",
        "# Normalize to different ranges\n",
        "normalized_0_1 = normalize_Rollno(user_data, 0, 1)\n",
        "normalized_neg1_1 = normalize_Rollno(user_data, -1, 1)\n",
        "normalized_neg3_3 = normalize_Rollno(user_data, -3, 3)\n",
        "\n",
        "print(\"\\nNormalized [0,1]:\", normalized_0_1)\n",
        "print(\"Normalized [-1,1]:\", normalized_neg1_1)\n",
        "print(\"Normalized [-3,3]:\", normalized_neg3_3)\n"
      ],
      "metadata": {
        "colab": {
          "base_uri": "https://localhost:8080/"
        },
        "id": "vgAMiqCw_C9L",
        "outputId": "93ee1416-ce8a-48ca-c37f-ff9402099ee6"
      },
      "execution_count": 11,
      "outputs": [
        {
          "output_type": "stream",
          "name": "stdout",
          "text": [
            "Enter number 1: 23\n",
            "Enter number 2: 45\n",
            "Enter number 3: 67\n",
            "Enter number 4: 98\n",
            "Enter number 5: 53\n",
            "Enter number 6: 92\n",
            "Enter number 7: 36\n",
            "Enter number 8: 77\n",
            "Enter number 9: 55\n",
            "\n",
            "Original Data: [4, 23, 45, 67, 98, 53, 92, 36, 77, 55]\n",
            "\n",
            "Normalized [0,1]: [0.0, 0.20212765957446807, 0.43617021276595747, 0.6702127659574468, 1.0, 0.5212765957446809, 0.9361702127659575, 0.3404255319148936, 0.776595744680851, 0.5425531914893617]\n",
            "Normalized [-1,1]: [-1.0, -0.5957446808510638, -0.12765957446808507, 0.34042553191489366, 1.0, 0.042553191489361764, 0.8723404255319149, -0.3191489361702128, 0.553191489361702, 0.0851063829787233]\n",
            "Normalized [-3,3]: [-3.0, -1.7872340425531916, -0.3829787234042552, 1.0212765957446805, 3.0, 0.12765957446808507, 2.617021276595745, -0.9574468085106385, 1.659574468085106, 0.25531914893617014]\n"
          ]
        }
      ]
    },
    {
      "cell_type": "code",
      "source": [
        "import pandas as pd\n",
        "import numpy as np\n",
        "import matplotlib.pyplot as plt\n",
        "import seaborn as sns\n",
        "\n",
        "# Load the dataset\n",
        "url = \"https://raw.githubusercontent.com/salemprakash/EDA/main/Data/Benefits.csv\"\n",
        "df = pd.read_csv(url)\n",
        "print(\"Dataset Loaded Successfully\")\n",
        "print(df.head())"
      ],
      "metadata": {
        "id": "GLKKTH01DXrH",
        "outputId": "ab30cfa2-ff90-42c7-94a6-92ac4fe8313c",
        "colab": {
          "base_uri": "https://localhost:8080/"
        }
      },
      "execution_count": 16,
      "outputs": [
        {
          "output_type": "stream",
          "name": "stdout",
          "text": [
            "Dataset Loaded Successfully\n",
            "   rownames  stateur  statemb  state  age  tenure     joblost nwhite school12  \\\n",
            "0         1      4.5      167     42   49      21       other     no       no   \n",
            "1         2     10.5      251     55   26       2  slack_work     no       no   \n",
            "2         3      7.2      260     21   40      19       other     no      yes   \n",
            "3         4      5.8      245     56   51      17  slack_work    yes       no   \n",
            "4         5      6.5      125     58   33       1  slack_work     no      yes   \n",
            "\n",
            "      sex bluecol smsa married dkids dykids  yrdispl        rr head   ui  \n",
            "0    male     yes  yes      no    no     no        7  0.290631  yes  yes  \n",
            "1    male     yes  yes      no   yes    yes       10  0.520202  yes   no  \n",
            "2  female     yes  yes     yes    no     no       10  0.432490  yes  yes  \n",
            "3  female     yes  yes     yes    no     no       10  0.500000   no  yes  \n",
            "4    male     yes  yes     yes   yes    yes        4  0.390625  yes   no  \n"
          ]
        }
      ]
    },
    {
      "cell_type": "code",
      "source": [],
      "metadata": {
        "id": "o7Ot2vDqDZ27"
      },
      "execution_count": null,
      "outputs": []
    }
  ]
}