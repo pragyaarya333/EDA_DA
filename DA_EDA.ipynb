{
  "nbformat": 4,
  "nbformat_minor": 0,
  "metadata": {
    "colab": {
      "provenance": [],
      "authorship_tag": "ABX9TyNlrPuxT0esPmD8d8wOh+LG",
      "include_colab_link": true
    },
    "kernelspec": {
      "name": "python3",
      "display_name": "Python 3"
    },
    "language_info": {
      "name": "python"
    }
  },
  "cells": [
    {
      "cell_type": "markdown",
      "metadata": {
        "id": "view-in-github",
        "colab_type": "text"
      },
      "source": [
        "<a href=\"https://colab.research.google.com/github/pragyaarya333/EDA_DA/blob/main/DA_EDA.ipynb\" target=\"_parent\"><img src=\"https://colab.research.google.com/assets/colab-badge.svg\" alt=\"Open In Colab\"/></a>"
      ]
    },
    {
      "cell_type": "code",
      "source": [
        "import pandas as pd\n",
        "import numpy as np\n",
        "\n",
        "# Load the dataset\n",
        "url = \"https://raw.githubusercontent.com/salemprakash/EDA/main/Data/Benefits.csv\"\n",
        "df = pd.read_csv(url)\n",
        "print(\"Dataset Loaded Successfully\")\n",
        "print(df.head())"
      ],
      "metadata": {
        "colab": {
          "base_uri": "https://localhost:8080/"
        },
        "id": "KoioxZ677kUV",
        "outputId": "cb4454bb-9e1b-42a8-a74f-0832f7c1ae6c"
      },
      "execution_count": null,
      "outputs": [
        {
          "output_type": "stream",
          "name": "stdout",
          "text": [
            "Dataset Loaded Successfully\n",
            "   rownames  stateur  statemb  state  age  tenure     joblost nwhite school12  \\\n",
            "0         1      4.5      167     42   49      21       other     no       no   \n",
            "1         2     10.5      251     55   26       2  slack_work     no       no   \n",
            "2         3      7.2      260     21   40      19       other     no      yes   \n",
            "3         4      5.8      245     56   51      17  slack_work    yes       no   \n",
            "4         5      6.5      125     58   33       1  slack_work     no      yes   \n",
            "\n",
            "      sex bluecol smsa married dkids dykids  yrdispl        rr head   ui  \n",
            "0    male     yes  yes      no    no     no        7  0.290631  yes  yes  \n",
            "1    male     yes  yes      no   yes    yes       10  0.520202  yes   no  \n",
            "2  female     yes  yes     yes    no     no       10  0.432490  yes  yes  \n",
            "3  female     yes  yes     yes    no     no       10  0.500000   no  yes  \n",
            "4    male     yes  yes     yes   yes    yes        4  0.390625  yes   no  \n"
          ]
        }
      ]
    },
    {
      "cell_type": "code",
      "source": [
        "# 1. Create DataFrame1 'Fname'\n",
        "Fname = pd.DataFrame({\n",
        "    \"ProductID\": [4, 2001, 2002, 2003, 2004],  # First ID is last 4 digits of roll no (004)\n",
        "    \"NameofProd\": [\"Laptop\", \"Phone\", \"Tablet\", \"Monitor\", \"Keyboard\"],\n",
        "    \"Price\": [800, 500, 300, 250, 100]\n",
        "})\n",
        "print(\"\\nDataFrame1 - Fname:\")\n",
        "print(Fname)"
      ],
      "metadata": {
        "colab": {
          "base_uri": "https://localhost:8080/"
        },
        "id": "fqVNFb8L8CTO",
        "outputId": "12d2c915-986c-4106-fbde-32620e8e315f"
      },
      "execution_count": null,
      "outputs": [
        {
          "output_type": "stream",
          "name": "stdout",
          "text": [
            "\n",
            "DataFrame1 - Fname:\n",
            "   ProductID NameofProd  Price\n",
            "0          4     Laptop    800\n",
            "1       2001      Phone    500\n",
            "2       2002     Tablet    300\n",
            "3       2003    Monitor    250\n",
            "4       2004   Keyboard    100\n"
          ]
        }
      ]
    },
    {
      "cell_type": "code",
      "source": [
        "# 2. Create DataFrame2 'Sample'\n",
        "Sample = pd.DataFrame({\n",
        "    \"ProductID\": [3001, 3002],\n",
        "    \"NameofProd\": [\"Mouse\", \"Charger\"],\n",
        "    \"Price\": [20, 15]\n",
        "})\n",
        "print(\"\\nDataFrame2 - Sample:\")\n",
        "print(Sample)"
      ],
      "metadata": {
        "colab": {
          "base_uri": "https://localhost:8080/"
        },
        "id": "0hW6b8Sn8KtV",
        "outputId": "dd9daf21-dafe-4542-896b-74f7950d6933"
      },
      "execution_count": null,
      "outputs": [
        {
          "output_type": "stream",
          "name": "stdout",
          "text": [
            "\n",
            "DataFrame2 - Sample:\n",
            "   ProductID NameofProd  Price\n",
            "0       3001      Mouse     20\n",
            "1       3002    Charger     15\n"
          ]
        }
      ]
    },
    {
      "cell_type": "code",
      "source": [
        "# 3. Create DataFrame3 'Lname'\n",
        "Lname = pd.DataFrame({\n",
        "    \"ProductID\": [4, 4001, 4002, 4003, 4004],\n",
        "    \"Company_Location\": [\"USA\", \"UK\", \"India\", \"Germany\", \"Canada\"]\n",
        "})\n",
        "print(\"\\nDataFrame3 - Lname:\")\n",
        "print(Lname)"
      ],
      "metadata": {
        "colab": {
          "base_uri": "https://localhost:8080/"
        },
        "id": "WPOZxD0A8ThH",
        "outputId": "605ba017-aecf-4e9d-a098-b74910c90897"
      },
      "execution_count": null,
      "outputs": [
        {
          "output_type": "stream",
          "name": "stdout",
          "text": [
            "\n",
            "DataFrame3 - Lname:\n",
            "   ProductID Company_Location\n",
            "0          4              USA\n",
            "1       4001               UK\n",
            "2       4002            India\n",
            "3       4003          Germany\n",
            "4       4004           Canada\n"
          ]
        }
      ]
    },
    {
      "cell_type": "code",
      "source": [
        "# 4. Append DataFrame1 and DataFrame2\n",
        "Appended_DF = pd.concat([Fname, Sample], ignore_index=True)\n",
        "print(\"\\nAppended DataFrame:\")\n",
        "print(Appended_DF)"
      ],
      "metadata": {
        "colab": {
          "base_uri": "https://localhost:8080/"
        },
        "id": "38fTHFqg8cWO",
        "outputId": "0a79212a-095d-46af-a48f-c706c96ff3de"
      },
      "execution_count": null,
      "outputs": [
        {
          "output_type": "stream",
          "name": "stdout",
          "text": [
            "\n",
            "Appended DataFrame:\n",
            "   ProductID NameofProd  Price\n",
            "0          4     Laptop    800\n",
            "1       2001      Phone    500\n",
            "2       2002     Tablet    300\n",
            "3       2003    Monitor    250\n",
            "4       2004   Keyboard    100\n",
            "5       3001      Mouse     20\n",
            "6       3002    Charger     15\n"
          ]
        }
      ]
    },
    {
      "cell_type": "code",
      "source": [
        "# 5. Combine DataFrame1 and DataFrame3 using outer join (similar to cbind in R)\n",
        "Combined_DF = pd.merge(Fname, Lname, on=\"ProductID\", how=\"outer\")\n",
        "print(\"\\nCombined DataFrame:\")\n",
        "print(Combined_DF)"
      ],
      "metadata": {
        "colab": {
          "base_uri": "https://localhost:8080/"
        },
        "id": "rOO_43Dr8kj1",
        "outputId": "0fa19bd5-0351-4589-8d85-99f53ea8da68"
      },
      "execution_count": null,
      "outputs": [
        {
          "output_type": "stream",
          "name": "stdout",
          "text": [
            "\n",
            "Combined DataFrame:\n",
            "   ProductID NameofProd  Price Company_Location\n",
            "0          4     Laptop  800.0              USA\n",
            "1       2001      Phone  500.0              NaN\n",
            "2       2002     Tablet  300.0              NaN\n",
            "3       2003    Monitor  250.0              NaN\n",
            "4       2004   Keyboard  100.0              NaN\n",
            "5       4001        NaN    NaN               UK\n",
            "6       4002        NaN    NaN            India\n",
            "7       4003        NaN    NaN          Germany\n",
            "8       4004        NaN    NaN           Canada\n"
          ]
        }
      ]
    },
    {
      "cell_type": "code",
      "source": [
        "# 6. Merge DataFrame1 and DataFrame3 by ProductID (Inner Join)\n",
        "Merged_DF = pd.merge(Fname, Lname, on=\"ProductID\", how=\"inner\")\n",
        "print(\"\\nMerged DataFrame:\")\n",
        "print(Merged_DF)"
      ],
      "metadata": {
        "colab": {
          "base_uri": "https://localhost:8080/"
        },
        "id": "yUB_sw4N8uuR",
        "outputId": "1a681b6e-f899-4e38-ed37-b9f3cc8b2f9b"
      },
      "execution_count": null,
      "outputs": [
        {
          "output_type": "stream",
          "name": "stdout",
          "text": [
            "\n",
            "Merged DataFrame:\n",
            "   ProductID NameofProd  Price Company_Location\n",
            "0          4     Laptop    800              USA\n"
          ]
        }
      ]
    },
    {
      "cell_type": "code",
      "source": [
        "# 7. Perform Left and Right Join\n",
        "Left_Join_DF = pd.merge(Fname, Lname, on=\"ProductID\", how=\"left\")\n",
        "Right_Join_DF = pd.merge(Fname, Lname, on=\"ProductID\", how=\"right\")\n",
        "print(\"\\nLeft Join DataFrame:\")\n",
        "print(Left_Join_DF)\n",
        "print(\"\\nRight Join DataFrame:\")\n",
        "print(Right_Join_DF)"
      ],
      "metadata": {
        "colab": {
          "base_uri": "https://localhost:8080/"
        },
        "id": "rrAwbcqx-4sO",
        "outputId": "d5eb8e90-ec72-467b-9a69-573284fd6062"
      },
      "execution_count": null,
      "outputs": [
        {
          "output_type": "stream",
          "name": "stdout",
          "text": [
            "\n",
            "Left Join DataFrame:\n",
            "   ProductID NameofProd  Price Company_Location\n",
            "0          4     Laptop    800              USA\n",
            "1       2001      Phone    500              NaN\n",
            "2       2002     Tablet    300              NaN\n",
            "3       2003    Monitor    250              NaN\n",
            "4       2004   Keyboard    100              NaN\n",
            "\n",
            "Right Join DataFrame:\n",
            "   ProductID NameofProd  Price Company_Location\n",
            "0          4     Laptop  800.0              USA\n",
            "1       4001        NaN    NaN               UK\n",
            "2       4002        NaN    NaN            India\n",
            "3       4003        NaN    NaN          Germany\n",
            "4       4004        NaN    NaN           Canada\n"
          ]
        }
      ]
    },
    {
      "cell_type": "code",
      "source": [
        "# 8. Normalize Data Function\n",
        "def normalize_Rollno(data, new_min, new_max):\n",
        "    old_min, old_max = min(data), max(data)\n",
        "    return [( (x - old_min) / (old_max - old_min) ) * (new_max - new_min) + new_min for x in data]\n",
        "\n",
        "# Read 10 numbers from user\n",
        "user_data = [4] + [int(input(f\"Enter number {i+1}: \")) for i in range(9)]\n",
        "print(\"\\nOriginal Data:\", user_data)\n",
        "\n",
        "# Normalize to different ranges\n",
        "normalized_0_1 = normalize_Rollno(user_data, 0, 1)\n",
        "normalized_neg1_1 = normalize_Rollno(user_data, -1, 1)\n",
        "normalized_neg3_3 = normalize_Rollno(user_data, -3, 3)\n",
        "\n",
        "print(\"\\nNormalized [0,1]:\", normalized_0_1)\n",
        "print(\"Normalized [-1,1]:\", normalized_neg1_1)\n",
        "print(\"Normalized [-3,3]:\", normalized_neg3_3)\n"
      ],
      "metadata": {
        "colab": {
          "base_uri": "https://localhost:8080/"
        },
        "id": "vgAMiqCw_C9L",
        "outputId": "93ee1416-ce8a-48ca-c37f-ff9402099ee6"
      },
      "execution_count": null,
      "outputs": [
        {
          "output_type": "stream",
          "name": "stdout",
          "text": [
            "Enter number 1: 23\n",
            "Enter number 2: 45\n",
            "Enter number 3: 67\n",
            "Enter number 4: 98\n",
            "Enter number 5: 53\n",
            "Enter number 6: 92\n",
            "Enter number 7: 36\n",
            "Enter number 8: 77\n",
            "Enter number 9: 55\n",
            "\n",
            "Original Data: [4, 23, 45, 67, 98, 53, 92, 36, 77, 55]\n",
            "\n",
            "Normalized [0,1]: [0.0, 0.20212765957446807, 0.43617021276595747, 0.6702127659574468, 1.0, 0.5212765957446809, 0.9361702127659575, 0.3404255319148936, 0.776595744680851, 0.5425531914893617]\n",
            "Normalized [-1,1]: [-1.0, -0.5957446808510638, -0.12765957446808507, 0.34042553191489366, 1.0, 0.042553191489361764, 0.8723404255319149, -0.3191489361702128, 0.553191489361702, 0.0851063829787233]\n",
            "Normalized [-3,3]: [-3.0, -1.7872340425531916, -0.3829787234042552, 1.0212765957446805, 3.0, 0.12765957446808507, 2.617021276595745, -0.9574468085106385, 1.659574468085106, 0.25531914893617014]\n"
          ]
        }
      ]
    },
    {
      "cell_type": "code",
      "source": [
        "import pandas as pd\n",
        "import numpy as np\n",
        "import matplotlib.pyplot as plt\n",
        "import seaborn as sns\n",
        "\n",
        "# Load the dataset\n",
        "url = \"https://raw.githubusercontent.com/salemprakash/EDA/main/Data/Benefits.csv\"\n",
        "df = pd.read_csv(url)\n",
        "print(\"Dataset Loaded Successfully\")\n",
        "print(df.head())"
      ],
      "metadata": {
        "colab": {
          "base_uri": "https://localhost:8080/"
        },
        "id": "3i8yxCbP7500",
        "outputId": "b20c5d48-390c-4afa-dd56-f5a311034fe0"
      },
      "execution_count": 7,
      "outputs": [
        {
          "output_type": "stream",
          "name": "stdout",
          "text": [
            "Dataset Loaded Successfully\n",
            "   rownames  stateur  statemb  state  age  tenure     joblost nwhite school12  \\\n",
            "0         1      4.5      167     42   49      21       other     no       no   \n",
            "1         2     10.5      251     55   26       2  slack_work     no       no   \n",
            "2         3      7.2      260     21   40      19       other     no      yes   \n",
            "3         4      5.8      245     56   51      17  slack_work    yes       no   \n",
            "4         5      6.5      125     58   33       1  slack_work     no      yes   \n",
            "\n",
            "      sex bluecol smsa married dkids dykids  yrdispl        rr head   ui  \n",
            "0    male     yes  yes      no    no     no        7  0.290631  yes  yes  \n",
            "1    male     yes  yes      no   yes    yes       10  0.520202  yes   no  \n",
            "2  female     yes  yes     yes    no     no       10  0.432490  yes  yes  \n",
            "3  female     yes  yes     yes    no     no       10  0.500000   no  yes  \n",
            "4    male     yes  yes     yes   yes    yes        4  0.390625  yes   no  \n"
          ]
        }
      ]
    },
    {
      "cell_type": "code",
      "source": [
        "# Insert first record with name and roll number\n",
        "new_row = pd.DataFrame([[\n",
        "    \"Your Name\"\n",
        "] + [4] * (len(df.columns) - 2) + [np.nan]], columns=df.columns)\n",
        "df = pd.concat([new_row, df], ignore_index=True)\n",
        "\n",
        "# Print after insertion\n",
        "print(\"\\nDataFrame after inserting new row:\")\n",
        "print(df.head(10))  # Display first 10 rows"
      ],
      "metadata": {
        "colab": {
          "base_uri": "https://localhost:8080/"
        },
        "id": "3cS20p5m8Z1l",
        "outputId": "b1ad312e-1ff4-4766-b3bf-e4ee109257c9"
      },
      "execution_count": 20,
      "outputs": [
        {
          "output_type": "stream",
          "name": "stdout",
          "text": [
            "\n",
            "DataFrame after inserting new row:\n",
            "    rownames  stateur  statemb  state  age  tenure     joblost nwhite  \\\n",
            "0  Your Name      4.0        4      4    4       4           4      4   \n",
            "1  Your Name      4.0        4      4    4       4           4      4   \n",
            "2  Your Name      4.0        4      4    4       4           4      4   \n",
            "3  Your Name      4.0        4      4    4       4           4      4   \n",
            "4          1      4.5      167     42   49      21       other     no   \n",
            "5          2     10.5      251     55   26       2  slack_work     no   \n",
            "6          3      7.2      260     21   40      19       other     no   \n",
            "7          4      5.8      245     56   51      17  slack_work    yes   \n",
            "8          5      6.5      125     58   33       1  slack_work     no   \n",
            "9          6      7.5      188     11   51       3       other     no   \n",
            "\n",
            "  school12     sex bluecol smsa married dkids dykids  yrdispl        rr head  \\\n",
            "0        4       4       4    4       4     4      4        4  4.000000    4   \n",
            "1        4       4       4    4       4     4      4        4  4.000000    4   \n",
            "2        4       4       4    4       4     4      4        4  4.000000    4   \n",
            "3        4       4       4    4       4     4      4        4  4.000000    4   \n",
            "4       no    male     yes  yes      no    no     no        7  0.290631  yes   \n",
            "5       no    male     yes  yes      no   yes    yes       10  0.520202  yes   \n",
            "6      yes  female     yes  yes     yes    no     no       10  0.432490  yes   \n",
            "7       no  female     yes  yes     yes    no     no       10  0.500000   no   \n",
            "8      yes    male     yes  yes     yes   yes    yes        4  0.390625  yes   \n",
            "9       no    male     yes  yes     yes    no     no       10  0.482201  yes   \n",
            "\n",
            "    ui  \n",
            "0  NaN  \n",
            "1  NaN  \n",
            "2  NaN  \n",
            "3  NaN  \n",
            "4  yes  \n",
            "5   no  \n",
            "6  yes  \n",
            "7  yes  \n",
            "8   no  \n",
            "9  yes  \n"
          ]
        }
      ]
    },
    {
      "cell_type": "code",
      "source": [
        "# Check for NA values\n",
        "print(\"\\nChecking for NA values:\")\n",
        "print(df.isna().any())\n"
      ],
      "metadata": {
        "colab": {
          "base_uri": "https://localhost:8080/"
        },
        "id": "eS5hMMzF8eWI",
        "outputId": "1ee5bd0b-accb-41bd-fdbb-985aaabfbf5d"
      },
      "execution_count": 12,
      "outputs": [
        {
          "output_type": "stream",
          "name": "stdout",
          "text": [
            "\n",
            "Checking for NA values:\n",
            "rownames    False\n",
            "stateur     False\n",
            "statemb     False\n",
            "state       False\n",
            "age         False\n",
            "tenure      False\n",
            "joblost     False\n",
            "nwhite      False\n",
            "school12    False\n",
            "sex         False\n",
            "bluecol     False\n",
            "smsa        False\n",
            "married     False\n",
            "dkids       False\n",
            "dykids      False\n",
            "yrdispl     False\n",
            "rr          False\n",
            "head        False\n",
            "ui           True\n",
            "dtype: bool\n"
          ]
        }
      ]
    },
    {
      "cell_type": "code",
      "source": [
        "# Missing summaries\n",
        "print(\"\\nMissing Variable Summary:\")\n",
        "print(df.isna().sum())"
      ],
      "metadata": {
        "colab": {
          "base_uri": "https://localhost:8080/"
        },
        "id": "6Wdji1-O8gi_",
        "outputId": "a1efe77f-9249-4d22-f994-9b3e5e30c4ad"
      },
      "execution_count": 13,
      "outputs": [
        {
          "output_type": "stream",
          "name": "stdout",
          "text": [
            "\n",
            "Missing Variable Summary:\n",
            "rownames    0\n",
            "stateur     0\n",
            "statemb     0\n",
            "state       0\n",
            "age         0\n",
            "tenure      0\n",
            "joblost     0\n",
            "nwhite      0\n",
            "school12    0\n",
            "sex         0\n",
            "bluecol     0\n",
            "smsa        0\n",
            "married     0\n",
            "dkids       0\n",
            "dykids      0\n",
            "yrdispl     0\n",
            "rr          0\n",
            "head        0\n",
            "ui          3\n",
            "dtype: int64\n"
          ]
        }
      ]
    },
    {
      "cell_type": "code",
      "source": [
        "# Total NA count\n",
        "print(\"\\nTotal NA values:\")\n",
        "print(df.isna().sum().sum())"
      ],
      "metadata": {
        "colab": {
          "base_uri": "https://localhost:8080/"
        },
        "id": "v8Xy-rvL8k4r",
        "outputId": "7e81316c-7f91-4ca2-9083-3d4bc03913c0"
      },
      "execution_count": 14,
      "outputs": [
        {
          "output_type": "stream",
          "name": "stdout",
          "text": [
            "\n",
            "Total NA values:\n",
            "3\n"
          ]
        }
      ]
    },
    {
      "cell_type": "code",
      "source": [
        "# Count complete values in Store4 and Store5\n",
        "print(\"\\nChecking for Store4 and Store5 columns:\")\n",
        "if 'Store4' in df.columns and 'Store5' in df.columns:\n",
        "    print(\"Total Complete Values in Store4:\", df['Store4'].notna().sum())\n",
        "    print(\"Total Complete Values in Store5:\", df['Store5'].notna().sum())\n",
        "else:\n",
        "    print(\"Store4 or Store5 columns not found in dataset.\")\n"
      ],
      "metadata": {
        "colab": {
          "base_uri": "https://localhost:8080/"
        },
        "id": "TfpabKvH8oTb",
        "outputId": "66f20b25-1a59-4c94-af74-1ede092e6722"
      },
      "execution_count": 21,
      "outputs": [
        {
          "output_type": "stream",
          "name": "stdout",
          "text": [
            "\n",
            "Checking for Store4 and Store5 columns:\n",
            "Store4 or Store5 columns not found in dataset.\n"
          ]
        }
      ]
    },
    {
      "cell_type": "code",
      "source": [
        "# Missing values proportion\n",
        "print(\"\\nProportion of Missing Values:\")\n",
        "print(df.isna().mean())"
      ],
      "metadata": {
        "colab": {
          "base_uri": "https://localhost:8080/"
        },
        "id": "sc4EeIXv8sn7",
        "outputId": "eb138576-7cf3-414d-afa8-623638d559e9"
      },
      "execution_count": 16,
      "outputs": [
        {
          "output_type": "stream",
          "name": "stdout",
          "text": [
            "\n",
            "Proportion of Missing Values:\n",
            "rownames    0.000000\n",
            "stateur     0.000000\n",
            "statemb     0.000000\n",
            "state       0.000000\n",
            "age         0.000000\n",
            "tenure      0.000000\n",
            "joblost     0.000000\n",
            "nwhite      0.000000\n",
            "school12    0.000000\n",
            "sex         0.000000\n",
            "bluecol     0.000000\n",
            "smsa        0.000000\n",
            "married     0.000000\n",
            "dkids       0.000000\n",
            "dykids      0.000000\n",
            "yrdispl     0.000000\n",
            "rr          0.000000\n",
            "head        0.000000\n",
            "ui          0.000615\n",
            "dtype: float64\n"
          ]
        }
      ]
    },
    {
      "cell_type": "code",
      "source": [
        "#Missing plot\n",
        "plt.figure(figsize=(14, 6))\n",
        "sns.heatmap(df.isna(),\n",
        "            cmap=\"coolwarm\",\n",
        "            cbar=True,\n",
        "            linewidths=1,\n",
        "            linecolor='black',\n",
        "            square=False,\n",
        "            xticklabels=True,\n",
        "            yticklabels=False)\n",
        "\n",
        "plt.title(\"Missing Values Per Column\", fontsize=16, fontweight='bold')\n",
        "plt.xlabel(\"Columns\", fontsize=14)\n",
        "plt.ylabel(\"Rows\", fontsize=14)\n",
        "plt.xticks(rotation=45, ha='right', fontsize=12)  # Rotate column labels for better visibility\n",
        "plt.show()\n"
      ],
      "metadata": {
        "colab": {
          "base_uri": "https://localhost:8080/",
          "height": 631
        },
        "id": "Z___eAmJ8wGC",
        "outputId": "e9b01c03-11b6-4829-cc65-a7a225e08682"
      },
      "execution_count": 27,
      "outputs": [
        {
          "output_type": "display_data",
          "data": {
            "text/plain": [
              "<Figure size 1400x600 with 2 Axes>"
            ],
            "image/png": "[encoded data removed]"
          },
          "metadata": {}
        }
      ]
    },
    {
      "cell_type": "code",
      "source": [
        "# Row-wise deletion\n",
        "df_cleaned = df.dropna()\n",
        "print(\"\\nDataframe after Row-wise Deletion:\")\n",
        "print(df_cleaned.head())\n"
      ],
      "metadata": {
        "colab": {
          "base_uri": "https://localhost:8080/"
        },
        "id": "77Ag6yId82WK",
        "outputId": "d06080d4-1ab4-4b5e-9f6e-bb40df6c0d43"
      },
      "execution_count": 18,
      "outputs": [
        {
          "output_type": "stream",
          "name": "stdout",
          "text": [
            "\n",
            "Dataframe after Row-wise Deletion:\n",
            "  rownames  stateur  statemb  state  age  tenure     joblost nwhite school12  \\\n",
            "3        1      4.5      167     42   49      21       other     no       no   \n",
            "4        2     10.5      251     55   26       2  slack_work     no       no   \n",
            "5        3      7.2      260     21   40      19       other     no      yes   \n",
            "6        4      5.8      245     56   51      17  slack_work    yes       no   \n",
            "7        5      6.5      125     58   33       1  slack_work     no      yes   \n",
            "\n",
            "      sex bluecol smsa married dkids dykids  yrdispl        rr head   ui  \n",
            "3    male     yes  yes      no    no     no        7  0.290631  yes  yes  \n",
            "4    male     yes  yes      no   yes    yes       10  0.520202  yes   no  \n",
            "5  female     yes  yes     yes    no     no       10  0.432490  yes  yes  \n",
            "6  female     yes  yes     yes    no     no       10  0.500000   no  yes  \n",
            "7    male     yes  yes     yes   yes    yes        4  0.390625  yes   no  \n"
          ]
        }
      ]
    },
    {
      "cell_type": "code",
      "source": [
        "# Statistical Analysis\n",
        "print(\"\\nStatistical Analysis:\")\n",
        "print(\"Mean:\")\n",
        "print(df.mean(numeric_only=True))\n",
        "print(\"Median:\")\n",
        "print(df.median(numeric_only=True))\n",
        "print(\"Standard Deviation:\")\n",
        "print(df.std(numeric_only=True))\n",
        "print(\"Minimum Values:\")\n",
        "print(df.min(numeric_only=True))\n",
        "print(\"Maximum Values:\")\n",
        "print(df.max(numeric_only=True))\n",
        "print(\"Quantiles:\")\n",
        "print(df.quantile([0.25, 0.5, 0.75], numeric_only=True))\n"
      ],
      "metadata": {
        "colab": {
          "base_uri": "https://localhost:8080/"
        },
        "id": "nOtxuRk386CI",
        "outputId": "d5034e1c-f636-40e5-d67f-6ad1b1fb95b6"
      },
      "execution_count": 19,
      "outputs": [
        {
          "output_type": "stream",
          "name": "stdout",
          "text": [
            "\n",
            "Statistical Analysis:\n",
            "Mean:\n",
            "stateur      7.508873\n",
            "statemb    180.551639\n",
            "state       52.778074\n",
            "age         36.110246\n",
            "tenure       5.663115\n",
            "yrdispl      5.202869\n",
            "rr           0.440556\n",
            "dtype: float64\n",
            "Median:\n",
            "stateur      7.200000\n",
            "statemb    177.000000\n",
            "state       55.000000\n",
            "age         34.000000\n",
            "tenure       3.000000\n",
            "yrdispl      5.000000\n",
            "rr           0.490506\n",
            "dtype: float64\n",
            "Standard Deviation:\n",
            "stateur     2.501324\n",
            "statemb    43.449553\n",
            "state      25.855348\n",
            "age        10.627366\n",
            "tenure      6.278143\n",
            "yrdispl     3.094308\n",
            "rr          0.138078\n",
            "dtype: float64\n",
            "Minimum Values:\n",
            "stateur    2.20000\n",
            "statemb    4.00000\n",
            "state      4.00000\n",
            "age        4.00000\n",
            "tenure     1.00000\n",
            "yrdispl    1.00000\n",
            "rr         0.03861\n",
            "dtype: float64\n",
            "Maximum Values:\n",
            "stateur     18.0\n",
            "statemb    293.0\n",
            "state       95.0\n",
            "age         61.0\n",
            "tenure      41.0\n",
            "yrdispl     10.0\n",
            "rr           4.0\n",
            "dtype: float64\n",
            "Quantiles:\n",
            "      stateur  statemb  state   age  tenure  yrdispl        rr\n",
            "0.25      5.7    150.0   31.0  28.0     2.0      2.0  0.375219\n",
            "0.50      7.2    177.0   55.0  34.0     3.0      5.0  0.490506\n",
            "0.75      9.0    205.0   74.0  43.0     7.0      8.0  0.511715\n"
          ]
        }
      ]
    }
  ]
}